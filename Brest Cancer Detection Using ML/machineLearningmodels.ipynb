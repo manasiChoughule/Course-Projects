{
 "cells": [
  {
   "cell_type": "code",
   "execution_count": 93,
   "metadata": {},
   "outputs": [],
   "source": [
    "import pandas as pd\n",
    "import numpy as np\n",
    "from matplotlib import pyplot as plt"
   ]
  },
  {
   "cell_type": "markdown",
   "metadata": {},
   "source": [
    "# Preprocessing"
   ]
  },
  {
   "cell_type": "code",
   "execution_count": 94,
   "metadata": {},
   "outputs": [],
   "source": [
    "#Load the csv file: breast-cancer-wisconsin. \n",
    "\n",
    "data = pd.read_csv('breast-cancer-wisconsin.csv',names=['id','clump','cell_size','cell_shape','adhesion','epithelial','nuclei','chromatin','nucleoli','mitoses','class'], na_values='?')"
   ]
  },
  {
   "cell_type": "markdown",
   "metadata": {},
   "source": [
    "For given dataset, the first column, id is unique number of patient data, and I have treated this value as index. Column number 2 - 10 are the features for the model. All these values have numberic values. Our class attribute is the last column of the dataset. For this column too, numbers 2 and 4 are used to denote the benign and malignant cancer state."
   ]
  },
  {
   "cell_type": "code",
   "execution_count": 95,
   "metadata": {},
   "outputs": [
    {
     "data": {
      "text/plain": [
       "(699, 11)"
      ]
     },
     "execution_count": 95,
     "metadata": {},
     "output_type": "execute_result"
    }
   ],
   "source": [
    "# Replace null values \"?\" by numpy.NaN\n",
    "\n",
    "data = data.replace(\"?\", np.NaN)\n",
    "data.shape"
   ]
  },
  {
   "cell_type": "code",
   "execution_count": 96,
   "metadata": {},
   "outputs": [
    {
     "name": "stdout",
     "output_type": "stream",
     "text": [
      "True\n"
     ]
    },
    {
     "data": {
      "text/plain": [
       "(691, 11)"
      ]
     },
     "execution_count": 96,
     "metadata": {},
     "output_type": "execute_result"
    }
   ],
   "source": [
    "#Check if there are duplicates. If so, remove them.\n",
    "\n",
    "isDuplicatePresent = data.duplicated().any()\n",
    "print(isDuplicatePresent)\n",
    "\n",
    "if (isDuplicatePresent):\n",
    "    data = data.drop_duplicates()\n",
    "data.shape"
   ]
  },
  {
   "cell_type": "code",
   "execution_count": 97,
   "metadata": {},
   "outputs": [],
   "source": [
    "# eight duplicates values were removed"
   ]
  },
  {
   "cell_type": "code",
   "execution_count": 98,
   "metadata": {},
   "outputs": [
    {
     "data": {
      "text/html": [
       "<div>\n",
       "<style scoped>\n",
       "    .dataframe tbody tr th:only-of-type {\n",
       "        vertical-align: middle;\n",
       "    }\n",
       "\n",
       "    .dataframe tbody tr th {\n",
       "        vertical-align: top;\n",
       "    }\n",
       "\n",
       "    .dataframe thead th {\n",
       "        text-align: right;\n",
       "    }\n",
       "</style>\n",
       "<table border=\"1\" class=\"dataframe\">\n",
       "  <thead>\n",
       "    <tr style=\"text-align: right;\">\n",
       "      <th></th>\n",
       "      <th>clump</th>\n",
       "      <th>cell_size</th>\n",
       "      <th>cell_shape</th>\n",
       "      <th>adhesion</th>\n",
       "      <th>epithelial</th>\n",
       "      <th>nuclei</th>\n",
       "      <th>chromatin</th>\n",
       "      <th>nucleoli</th>\n",
       "      <th>mitoses</th>\n",
       "      <th>class</th>\n",
       "    </tr>\n",
       "    <tr>\n",
       "      <th>id</th>\n",
       "      <th></th>\n",
       "      <th></th>\n",
       "      <th></th>\n",
       "      <th></th>\n",
       "      <th></th>\n",
       "      <th></th>\n",
       "      <th></th>\n",
       "      <th></th>\n",
       "      <th></th>\n",
       "      <th></th>\n",
       "    </tr>\n",
       "  </thead>\n",
       "  <tbody>\n",
       "    <tr>\n",
       "      <th>1000025</th>\n",
       "      <td>5</td>\n",
       "      <td>1</td>\n",
       "      <td>1</td>\n",
       "      <td>1</td>\n",
       "      <td>2</td>\n",
       "      <td>1.0</td>\n",
       "      <td>3</td>\n",
       "      <td>1</td>\n",
       "      <td>1</td>\n",
       "      <td>2</td>\n",
       "    </tr>\n",
       "    <tr>\n",
       "      <th>1002945</th>\n",
       "      <td>5</td>\n",
       "      <td>4</td>\n",
       "      <td>4</td>\n",
       "      <td>5</td>\n",
       "      <td>7</td>\n",
       "      <td>10.0</td>\n",
       "      <td>3</td>\n",
       "      <td>2</td>\n",
       "      <td>1</td>\n",
       "      <td>2</td>\n",
       "    </tr>\n",
       "    <tr>\n",
       "      <th>1015425</th>\n",
       "      <td>3</td>\n",
       "      <td>1</td>\n",
       "      <td>1</td>\n",
       "      <td>1</td>\n",
       "      <td>2</td>\n",
       "      <td>2.0</td>\n",
       "      <td>3</td>\n",
       "      <td>1</td>\n",
       "      <td>1</td>\n",
       "      <td>2</td>\n",
       "    </tr>\n",
       "    <tr>\n",
       "      <th>1016277</th>\n",
       "      <td>6</td>\n",
       "      <td>8</td>\n",
       "      <td>8</td>\n",
       "      <td>1</td>\n",
       "      <td>3</td>\n",
       "      <td>4.0</td>\n",
       "      <td>3</td>\n",
       "      <td>7</td>\n",
       "      <td>1</td>\n",
       "      <td>2</td>\n",
       "    </tr>\n",
       "    <tr>\n",
       "      <th>1017023</th>\n",
       "      <td>4</td>\n",
       "      <td>1</td>\n",
       "      <td>1</td>\n",
       "      <td>3</td>\n",
       "      <td>2</td>\n",
       "      <td>1.0</td>\n",
       "      <td>3</td>\n",
       "      <td>1</td>\n",
       "      <td>1</td>\n",
       "      <td>2</td>\n",
       "    </tr>\n",
       "    <tr>\n",
       "      <th>...</th>\n",
       "      <td>...</td>\n",
       "      <td>...</td>\n",
       "      <td>...</td>\n",
       "      <td>...</td>\n",
       "      <td>...</td>\n",
       "      <td>...</td>\n",
       "      <td>...</td>\n",
       "      <td>...</td>\n",
       "      <td>...</td>\n",
       "      <td>...</td>\n",
       "    </tr>\n",
       "    <tr>\n",
       "      <th>776715</th>\n",
       "      <td>3</td>\n",
       "      <td>1</td>\n",
       "      <td>1</td>\n",
       "      <td>1</td>\n",
       "      <td>3</td>\n",
       "      <td>2.0</td>\n",
       "      <td>1</td>\n",
       "      <td>1</td>\n",
       "      <td>1</td>\n",
       "      <td>2</td>\n",
       "    </tr>\n",
       "    <tr>\n",
       "      <th>841769</th>\n",
       "      <td>2</td>\n",
       "      <td>1</td>\n",
       "      <td>1</td>\n",
       "      <td>1</td>\n",
       "      <td>2</td>\n",
       "      <td>1.0</td>\n",
       "      <td>1</td>\n",
       "      <td>1</td>\n",
       "      <td>1</td>\n",
       "      <td>2</td>\n",
       "    </tr>\n",
       "    <tr>\n",
       "      <th>888820</th>\n",
       "      <td>5</td>\n",
       "      <td>10</td>\n",
       "      <td>10</td>\n",
       "      <td>3</td>\n",
       "      <td>7</td>\n",
       "      <td>3.0</td>\n",
       "      <td>8</td>\n",
       "      <td>10</td>\n",
       "      <td>2</td>\n",
       "      <td>4</td>\n",
       "    </tr>\n",
       "    <tr>\n",
       "      <th>897471</th>\n",
       "      <td>4</td>\n",
       "      <td>8</td>\n",
       "      <td>6</td>\n",
       "      <td>4</td>\n",
       "      <td>3</td>\n",
       "      <td>4.0</td>\n",
       "      <td>10</td>\n",
       "      <td>6</td>\n",
       "      <td>1</td>\n",
       "      <td>4</td>\n",
       "    </tr>\n",
       "    <tr>\n",
       "      <th>897471</th>\n",
       "      <td>4</td>\n",
       "      <td>8</td>\n",
       "      <td>8</td>\n",
       "      <td>5</td>\n",
       "      <td>4</td>\n",
       "      <td>5.0</td>\n",
       "      <td>10</td>\n",
       "      <td>4</td>\n",
       "      <td>1</td>\n",
       "      <td>4</td>\n",
       "    </tr>\n",
       "  </tbody>\n",
       "</table>\n",
       "<p>691 rows × 10 columns</p>\n",
       "</div>"
      ],
      "text/plain": [
       "         clump  cell_size  cell_shape  adhesion  epithelial  nuclei  \\\n",
       "id                                                                    \n",
       "1000025      5          1           1         1           2     1.0   \n",
       "1002945      5          4           4         5           7    10.0   \n",
       "1015425      3          1           1         1           2     2.0   \n",
       "1016277      6          8           8         1           3     4.0   \n",
       "1017023      4          1           1         3           2     1.0   \n",
       "...        ...        ...         ...       ...         ...     ...   \n",
       "776715       3          1           1         1           3     2.0   \n",
       "841769       2          1           1         1           2     1.0   \n",
       "888820       5         10          10         3           7     3.0   \n",
       "897471       4          8           6         4           3     4.0   \n",
       "897471       4          8           8         5           4     5.0   \n",
       "\n",
       "         chromatin  nucleoli  mitoses  class  \n",
       "id                                            \n",
       "1000025          3         1        1      2  \n",
       "1002945          3         2        1      2  \n",
       "1015425          3         1        1      2  \n",
       "1016277          3         7        1      2  \n",
       "1017023          3         1        1      2  \n",
       "...            ...       ...      ...    ...  \n",
       "776715           1         1        1      2  \n",
       "841769           1         1        1      2  \n",
       "888820           8        10        2      4  \n",
       "897471          10         6        1      4  \n",
       "897471          10         4        1      4  \n",
       "\n",
       "[691 rows x 10 columns]"
      ]
     },
     "execution_count": 98,
     "metadata": {},
     "output_type": "execute_result"
    }
   ],
   "source": [
    "# Set id column as index \n",
    "\n",
    "data = data.set_index('id')\n",
    "data"
   ]
  },
  {
   "cell_type": "code",
   "execution_count": 99,
   "metadata": {},
   "outputs": [
    {
     "name": "stdout",
     "output_type": "stream",
     "text": [
      "clump          0\n",
      "cell_size      0\n",
      "cell_shape     0\n",
      "adhesion       0\n",
      "epithelial     0\n",
      "nuclei        16\n",
      "chromatin      0\n",
      "nucleoli       0\n",
      "mitoses        0\n",
      "class          0\n",
      "dtype: int64\n",
      "\n",
      "After filling the data:\n",
      " clump         0\n",
      "cell_size     0\n",
      "cell_shape    0\n",
      "adhesion      0\n",
      "epithelial    0\n",
      "nuclei        0\n",
      "chromatin     0\n",
      "nucleoli      0\n",
      "mitoses       0\n",
      "class         0\n",
      "dtype: int64\n"
     ]
    }
   ],
   "source": [
    "# Fill null values with mean value of the respective column\n",
    "\n",
    "print(data.isnull().sum())\n",
    "data[\"nuclei\"] = data[\"nuclei\"].fillna(round(data[\"nuclei\"].median(),2))\n",
    "print(\"\\nAfter filling the data:\\n\",data.isnull().sum())"
   ]
  },
  {
   "cell_type": "code",
   "execution_count": 100,
   "metadata": {},
   "outputs": [
    {
     "data": {
      "text/html": [
       "<div>\n",
       "<style scoped>\n",
       "    .dataframe tbody tr th:only-of-type {\n",
       "        vertical-align: middle;\n",
       "    }\n",
       "\n",
       "    .dataframe tbody tr th {\n",
       "        vertical-align: top;\n",
       "    }\n",
       "\n",
       "    .dataframe thead th {\n",
       "        text-align: right;\n",
       "    }\n",
       "</style>\n",
       "<table border=\"1\" class=\"dataframe\">\n",
       "  <thead>\n",
       "    <tr style=\"text-align: right;\">\n",
       "      <th></th>\n",
       "      <th>clump</th>\n",
       "      <th>cell_size</th>\n",
       "      <th>cell_shape</th>\n",
       "      <th>adhesion</th>\n",
       "      <th>epithelial</th>\n",
       "      <th>nuclei</th>\n",
       "      <th>chromatin</th>\n",
       "      <th>nucleoli</th>\n",
       "      <th>mitoses</th>\n",
       "      <th>class</th>\n",
       "    </tr>\n",
       "  </thead>\n",
       "  <tbody>\n",
       "    <tr>\n",
       "      <th>count</th>\n",
       "      <td>691.000000</td>\n",
       "      <td>691.000000</td>\n",
       "      <td>691.000000</td>\n",
       "      <td>691.000000</td>\n",
       "      <td>691.000000</td>\n",
       "      <td>691.000000</td>\n",
       "      <td>691.000000</td>\n",
       "      <td>691.000000</td>\n",
       "      <td>691.000000</td>\n",
       "      <td>691.000000</td>\n",
       "    </tr>\n",
       "    <tr>\n",
       "      <th>mean</th>\n",
       "      <td>4.426918</td>\n",
       "      <td>3.130246</td>\n",
       "      <td>3.201158</td>\n",
       "      <td>2.824891</td>\n",
       "      <td>3.211288</td>\n",
       "      <td>3.479016</td>\n",
       "      <td>3.435601</td>\n",
       "      <td>2.882779</td>\n",
       "      <td>1.593343</td>\n",
       "      <td>2.688857</td>\n",
       "    </tr>\n",
       "    <tr>\n",
       "      <th>std</th>\n",
       "      <td>2.815861</td>\n",
       "      <td>3.041328</td>\n",
       "      <td>2.959886</td>\n",
       "      <td>2.866552</td>\n",
       "      <td>2.199852</td>\n",
       "      <td>3.615676</td>\n",
       "      <td>2.442345</td>\n",
       "      <td>3.066298</td>\n",
       "      <td>1.723129</td>\n",
       "      <td>0.951051</td>\n",
       "    </tr>\n",
       "    <tr>\n",
       "      <th>min</th>\n",
       "      <td>1.000000</td>\n",
       "      <td>1.000000</td>\n",
       "      <td>1.000000</td>\n",
       "      <td>1.000000</td>\n",
       "      <td>1.000000</td>\n",
       "      <td>1.000000</td>\n",
       "      <td>1.000000</td>\n",
       "      <td>1.000000</td>\n",
       "      <td>1.000000</td>\n",
       "      <td>2.000000</td>\n",
       "    </tr>\n",
       "    <tr>\n",
       "      <th>25%</th>\n",
       "      <td>2.000000</td>\n",
       "      <td>1.000000</td>\n",
       "      <td>1.000000</td>\n",
       "      <td>1.000000</td>\n",
       "      <td>2.000000</td>\n",
       "      <td>1.000000</td>\n",
       "      <td>2.000000</td>\n",
       "      <td>1.000000</td>\n",
       "      <td>1.000000</td>\n",
       "      <td>2.000000</td>\n",
       "    </tr>\n",
       "    <tr>\n",
       "      <th>50%</th>\n",
       "      <td>4.000000</td>\n",
       "      <td>1.000000</td>\n",
       "      <td>1.000000</td>\n",
       "      <td>1.000000</td>\n",
       "      <td>2.000000</td>\n",
       "      <td>1.000000</td>\n",
       "      <td>3.000000</td>\n",
       "      <td>1.000000</td>\n",
       "      <td>1.000000</td>\n",
       "      <td>2.000000</td>\n",
       "    </tr>\n",
       "    <tr>\n",
       "      <th>75%</th>\n",
       "      <td>6.000000</td>\n",
       "      <td>5.000000</td>\n",
       "      <td>5.000000</td>\n",
       "      <td>4.000000</td>\n",
       "      <td>4.000000</td>\n",
       "      <td>5.000000</td>\n",
       "      <td>5.000000</td>\n",
       "      <td>4.000000</td>\n",
       "      <td>1.000000</td>\n",
       "      <td>4.000000</td>\n",
       "    </tr>\n",
       "    <tr>\n",
       "      <th>max</th>\n",
       "      <td>10.000000</td>\n",
       "      <td>10.000000</td>\n",
       "      <td>10.000000</td>\n",
       "      <td>10.000000</td>\n",
       "      <td>10.000000</td>\n",
       "      <td>10.000000</td>\n",
       "      <td>10.000000</td>\n",
       "      <td>10.000000</td>\n",
       "      <td>10.000000</td>\n",
       "      <td>4.000000</td>\n",
       "    </tr>\n",
       "  </tbody>\n",
       "</table>\n",
       "</div>"
      ],
      "text/plain": [
       "            clump   cell_size  cell_shape    adhesion  epithelial      nuclei  \\\n",
       "count  691.000000  691.000000  691.000000  691.000000  691.000000  691.000000   \n",
       "mean     4.426918    3.130246    3.201158    2.824891    3.211288    3.479016   \n",
       "std      2.815861    3.041328    2.959886    2.866552    2.199852    3.615676   \n",
       "min      1.000000    1.000000    1.000000    1.000000    1.000000    1.000000   \n",
       "25%      2.000000    1.000000    1.000000    1.000000    2.000000    1.000000   \n",
       "50%      4.000000    1.000000    1.000000    1.000000    2.000000    1.000000   \n",
       "75%      6.000000    5.000000    5.000000    4.000000    4.000000    5.000000   \n",
       "max     10.000000   10.000000   10.000000   10.000000   10.000000   10.000000   \n",
       "\n",
       "        chromatin    nucleoli     mitoses       class  \n",
       "count  691.000000  691.000000  691.000000  691.000000  \n",
       "mean     3.435601    2.882779    1.593343    2.688857  \n",
       "std      2.442345    3.066298    1.723129    0.951051  \n",
       "min      1.000000    1.000000    1.000000    2.000000  \n",
       "25%      2.000000    1.000000    1.000000    2.000000  \n",
       "50%      3.000000    1.000000    1.000000    2.000000  \n",
       "75%      5.000000    4.000000    1.000000    4.000000  \n",
       "max     10.000000   10.000000   10.000000    4.000000  "
      ]
     },
     "execution_count": 100,
     "metadata": {},
     "output_type": "execute_result"
    }
   ],
   "source": [
    "#Get descriptive states of the data\n",
    "\n",
    "data.describe()"
   ]
  },
  {
   "cell_type": "code",
   "execution_count": 101,
   "metadata": {},
   "outputs": [],
   "source": [
    "#Define a function to draw boxplot\n",
    "\n",
    "def plot_boxplot(dataframe, column_name):\n",
    "    dataframe.boxplot(column = [column_name])\n",
    "    plt.grid(False)\n",
    "    plt.show()"
   ]
  },
  {
   "cell_type": "code",
   "execution_count": 102,
   "metadata": {},
   "outputs": [
    {
     "data": {
      "text/plain": [
       "<AxesSubplot:>"
      ]
     },
     "execution_count": 102,
     "metadata": {},
     "output_type": "execute_result"
    },
    {
     "data": {
      "image/png": "[encoded data removed]",
      "text/plain": [
       "<Figure size 720x432 with 1 Axes>"
      ]
     },
     "metadata": {
      "needs_background": "light"
     },
     "output_type": "display_data"
    }
   ],
   "source": [
    "#Plot all the boxplots for outliers\n",
    "\n",
    "data.boxplot(figsize = (10, 6))"
   ]
  },
  {
   "cell_type": "code",
   "execution_count": 103,
   "metadata": {},
   "outputs": [
    {
     "data": {
      "image/png": "[encoded data removed]",
      "text/plain": [
       "<Figure size 432x288 with 1 Axes>"
      ]
     },
     "metadata": {
      "needs_background": "light"
     },
     "output_type": "display_data"
    }
   ],
   "source": [
    "#plot individual boxplot for adhesion, epithelial, chromatin, nucleoli\n",
    "\n",
    "plot_boxplot(data, \"adhesion\")"
   ]
  },
  {
   "cell_type": "code",
   "execution_count": 104,
   "metadata": {},
   "outputs": [
    {
     "data": {
      "image/png": "[encoded data removed]",
      "text/plain": [
       "<Figure size 432x288 with 1 Axes>"
      ]
     },
     "metadata": {
      "needs_background": "light"
     },
     "output_type": "display_data"
    }
   ],
   "source": [
    "plot_boxplot(data, \"epithelial\")"
   ]
  },
  {
   "cell_type": "code",
   "execution_count": 105,
   "metadata": {},
   "outputs": [
    {
     "data": {
      "image/png": "[encoded data removed]",
      "text/plain": [
       "<Figure size 432x288 with 1 Axes>"
      ]
     },
     "metadata": {
      "needs_background": "light"
     },
     "output_type": "display_data"
    }
   ],
   "source": [
    "plot_boxplot(data, \"chromatin\")"
   ]
  },
  {
   "cell_type": "code",
   "execution_count": 106,
   "metadata": {},
   "outputs": [
    {
     "data": {
      "image/png": "[encoded data removed]",
      "text/plain": [
       "<Figure size 432x288 with 1 Axes>"
      ]
     },
     "metadata": {
      "needs_background": "light"
     },
     "output_type": "display_data"
    }
   ],
   "source": [
    "plot_boxplot(data, \"nucleoli\")"
   ]
  },
  {
   "cell_type": "markdown",
   "metadata": {},
   "source": [
    "Remove outliers"
   ]
  },
  {
   "cell_type": "code",
   "execution_count": 107,
   "metadata": {},
   "outputs": [],
   "source": [
    "#Define a function which will give the index of outlier column\n",
    "#Calculate IQR\n",
    "#Calculate Lower and Upper bound\n",
    "\n",
    "def outlierIndices(dataframe, column_name):\n",
    "    Q1 = dataframe[column_name].quantile(0.25)\n",
    "    Q3 = dataframe[column_name].quantile(0.75)\n",
    "    IQR = Q3 - Q1\n",
    "    \n",
    "    lower_bound = Q1 - 1.5 * IQR\n",
    "    upper_bound = Q3 + 1.5 *IQR\n",
    "    \n",
    "    outlier_column_index_list = dataframe.index[(dataframe[column_name]<lower_bound) | (dataframe[column_name]>upper_bound)]\n",
    "    \n",
    "    return outlier_column_index_list"
   ]
  },
  {
   "cell_type": "code",
   "execution_count": 108,
   "metadata": {},
   "outputs": [],
   "source": [
    "#Create array to store outlier index\n",
    "\n",
    "index_list = []\n",
    "for each_column in [\"adhesion\",\"epithelial\",\"chromatin\",\"nucleoli\"]:\n",
    "    index_list.extend(outlierIndices(data, each_column))"
   ]
  },
  {
   "cell_type": "code",
   "execution_count": 109,
   "metadata": {},
   "outputs": [
    {
     "data": {
      "text/plain": [
       "209"
      ]
     },
     "execution_count": 109,
     "metadata": {},
     "output_type": "execute_result"
    }
   ],
   "source": [
    "#print the number of outlier entries/rows.\n",
    "#There can be repeated row entries too, hence need to be sorted and duplicates need to be removed.\n",
    "\n",
    "len(index_list)"
   ]
  },
  {
   "cell_type": "code",
   "execution_count": 110,
   "metadata": {},
   "outputs": [],
   "source": [
    "#Write a function, which will remove the outlier data with above incex list and give clean data.\n",
    "#Sort, remove duplicate from index list.\n",
    "\n",
    "def removeOutliers(dataframe, outlier_row_index_list):\n",
    "    outlier_row_index_list = sorted(set(outlier_row_index_list))\n",
    "    dataframe = dataframe.drop(outlier_row_index_list)\n",
    "    return dataframe\n"
   ]
  },
  {
   "cell_type": "code",
   "execution_count": 111,
   "metadata": {},
   "outputs": [],
   "source": [
    "cleaned_data = removeOutliers(data, index_list)"
   ]
  },
  {
   "cell_type": "code",
   "execution_count": 112,
   "metadata": {},
   "outputs": [
    {
     "data": {
      "text/plain": [
       "(546, 10)"
      ]
     },
     "execution_count": 112,
     "metadata": {},
     "output_type": "execute_result"
    }
   ],
   "source": [
    "cleaned_data.shape"
   ]
  },
  {
   "cell_type": "code",
   "execution_count": 145,
   "metadata": {},
   "outputs": [
    {
     "name": "stdout",
     "output_type": "stream",
     "text": [
      "          clump  cell_size  cell_shape  adhesion  epithelial  nuclei  chromatin  nucleoli  mitoses  class\n",
      "id                                                                                                       \n",
      "1000025       5          1           1         1           2     1.0          3         1        1      2\n",
      "1002945       5          4           4         5           7    10.0          3         2        1      2\n",
      "1015425       3          1           1         1           2     2.0          3         1        1      2\n",
      "1016277       6          8           8         1           3     4.0          3         7        1      2\n",
      "1017023       4          1           1         3           2     1.0          3         1        1      2\n",
      "1017122       8         10          10         8           7    10.0          9         7        1      4\n",
      "1018099       1          1           1         1           2    10.0          3         1        1      2\n",
      "1018561       2          1           2         1           2     1.0          3         1        1      2\n",
      "1033078       2          1           1         1           2     1.0          1         1        5      2\n",
      "1033078       4          2           1         1           2     1.0          2         1        1      2\n",
      "1035283       1          1           1         1           1     1.0          3         1        1      2\n",
      "1036172       2          1           1         1           2     1.0          2         1        1      2\n",
      "1041801       5          3           3         3           2     3.0          4         4        1      4\n",
      "1043999       1          1           1         1           2     3.0          3         1        1      2\n",
      "1047630       7          4           6         4           6     1.0          4         3        1      4\n",
      "1048672       4          1           1         1           2     1.0          2         1        1      2\n",
      "1049815       4          1           1         1           2     1.0          3         1        1      2\n",
      "1050670      10          7           7         6           4    10.0          4         1        2      4\n",
      "1050718       6          1           1         1           2     1.0          3         1        1      2\n",
      "1056784       3          1           1         1           2     1.0          2         1        1      2\n",
      "1057013       8          4           5         1           2     1.0          7         3        1      4\n",
      "1059552       1          1           1         1           2     1.0          3         1        1      2\n",
      "1065726       5          2           3         4           2     7.0          3         6        1      4\n",
      "1066373       3          2           1         1           1     1.0          2         1        1      2\n",
      "1066979       5          1           1         1           2     1.0          2         1        1      2\n",
      "1067444       2          1           1         1           2     1.0          2         1        1      2\n",
      "1070935       1          1           3         1           2     1.0          1         1        1      2\n",
      "1070935       3          1           1         1           1     1.0          2         1        1      2\n",
      "1071760       2          1           1         1           2     1.0          3         1        1      2\n",
      "1074610       2          1           1         2           2     1.0          3         1        1      2\n",
      "1075123       3          1           2         1           2     1.0          2         1        1      2\n",
      "1079304       2          1           1         1           2     1.0          2         1        1      2\n",
      "1081791       6          2           1         1           1     1.0          7         1        1      2\n",
      "1091262       2          5           3         3           6     7.0          7         5        1      4\n",
      "1099510      10          4           3         1           3     3.0          6         5        2      4\n",
      "1103722       1          1           1         1           2     1.0          2         1        2      2\n",
      "1105257       3          7           7         4           4     9.0          4         8        1      4\n",
      "1105524       1          1           1         1           2     1.0          2         1        1      2\n",
      "1106095       4          1           1         3           2     1.0          3         1        1      2\n",
      "1106829       7          8           7         2           4     8.0          3         8        2      4\n",
      "1108370       9          5           8         1           2     3.0          2         1        5      4\n",
      "1108449       5          3           3         4           2     4.0          3         4        1      4\n",
      "1111249      10          6           6         3           4     5.0          3         6        1      4\n",
      "1113038       8          2           4         1           5     1.0          5         4        4      4\n",
      "1113483       5          2           3         1           6    10.0          5         1        1      4\n",
      "1113906       9          5           5         2           2     2.0          5         1        1      4\n",
      "1115293       1          1           1         1           2     2.0          2         1        1      2\n",
      "1116192       1          1           1         1           2     1.0          2         1        1      2\n",
      "1116998      10          4           2         1           3     2.0          4         3       10      4\n",
      "1117152       4          1           1         1           2     1.0          3         1        1      2\n",
      "1121732       1          1           1         1           2     1.0          3         2        1      2\n",
      "1121919       5          1           3         1           2     1.0          2         1        1      2\n",
      "1124651       1          3           3         2           2     1.0          7         2        1      2\n",
      "1126417      10          6           4         1           3     4.0          3         2        3      4\n",
      "1131294       1          1           2         1           2     2.0          4         2        1      2\n",
      "1132347       1          1           4         1           2     1.0          2         1        1      2\n",
      "1133041       5          3           1         2           2     1.0          2         1        1      2\n",
      "1133136       3          1           1         1           2     3.0          3         1        1      2\n",
      "1136142       2          1           1         1           3     1.0          2         1        1      2\n",
      "1137156       2          2           2         1           1     1.0          7         1        1      2\n",
      "1143978       4          1           1         2           2     1.0          2         1        1      2\n",
      "1143978       5          2           1         1           2     1.0          3         1        1      2\n",
      "1147044       3          1           1         1           2     2.0          7         1        1      2\n",
      "1148278       3          3           6         4           5     8.0          4         4        1      4\n",
      "1148873       3          6           6         6           5    10.0          6         8        3      4\n",
      "1152331       4          1           1         1           2     1.0          3         1        1      2\n",
      "1155546       2          1           1         2           3     1.0          2         1        1      2\n",
      "1156272       1          1           1         1           2     1.0          3         1        1      2\n",
      "1156948       3          1           1         2           2     1.0          1         1        1      2\n",
      "1157734       4          1           1         1           2     1.0          3         1        1      2\n",
      "1158247       1          1           1         1           2     1.0          2         1        1      2\n",
      "1160476       2          1           1         1           2     1.0          3         1        1      2\n",
      "1164066       1          1           1         1           2     1.0          3         1        1      2\n",
      "1165297       2          1           1         2           2     1.0          1         1        1      2\n",
      "1165790       5          1           1         1           2     1.0          3         1        1      2\n",
      "1167439       2          3           4         4           2     5.0          2         5        1      4\n",
      "1167471       4          1           2         1           2     1.0          3         1        1      2\n",
      "1168359       8          2           3         1           6     3.0          7         1        1      4\n",
      "1169049       7          3           4         4           3     3.0          3         2        7      4\n",
      "1170419      10         10          10         8           2    10.0          4         1        1      4\n",
      "1171710       1          1           1         1           2     1.0          2         3        1      2\n",
      "1171710       6          5           4         4           3     9.0          7         8        3      4\n",
      "1171795       1          3           1         2           2     2.0          5         3        2      2\n",
      "1171845       8          6           4         3           5     9.0          3         1        1      4\n",
      "1173235       3          3           2         1           2     3.0          3         1        1      2\n",
      "1173347       1          1           1         1           2     5.0          1         1        1      2\n",
      "1173347       8          3           3         1           2     2.0          3         2        1      2\n",
      "1173514       1          1           1         1           4     3.0          1         1        1      2\n",
      "1173681       3          2           1         1           2     2.0          3         1        1      2\n",
      "1174057       1          1           2         2           2     1.0          3         1        1      2\n",
      "1174057       4          2           1         1           2     2.0          3         1        1      2\n",
      "1176406       1          1           1         1           2     1.0          2         1        1      2\n",
      "1176881       7          5           3         7           4    10.0          7         5        5      4\n",
      "1177027       3          1           1         1           2     1.0          3         1        1      2\n",
      "1177399       8          3           5         4           5    10.0          1         6        2      4\n",
      "1178580       5          1           3         1           2     1.0          2         1        1      2\n",
      "1179818       2          1           1         1           2     1.0          3         1        1      2\n",
      "1180523       3          1           1         1           2     1.0          2         2        1      2\n",
      "1180831       3          1           1         1           3     1.0          2         1        1      2\n",
      "1181356       5          1           1         1           2     2.0          3         3        1      2\n",
      "1182404       4          1           1         1           2     1.0          2         1        1      2\n",
      "1182410       3          1           1         1           2     1.0          1         1        1      2\n",
      "1183240       4          1           2         1           2     1.0          2         1        1      2\n",
      "1183246       1          1           1         1           1     1.0          2         1        1      2\n",
      "1183516       3          1           1         1           2     1.0          1         1        1      2\n",
      "1183911       2          1           1         1           2     1.0          1         1        1      2\n",
      "1183983       9          5           5         4           4     5.0          4         3        3      4\n",
      "1184184       1          1           1         1           2     5.0          1         1        1      2\n",
      "1184241       2          1           1         1           2     1.0          2         1        1      2\n",
      "1184840       1          1           3         1           2     1.0          2         1        1      2\n",
      "1185609       3          4           5         2           6     8.0          4         1        1      4\n",
      "1185610       1          1           1         1           3     2.0          2         1        1      2\n",
      "1188472       1          1           1         1           1     1.0          3         1        1      2\n",
      "1189266       7          2           4         1           6    10.0          5         4        3      4\n",
      "1190394       4          1           1         1           2     3.0          1         1        1      2\n",
      "1190485       1          1           1         1           2     1.0          1         1        1      2\n",
      "1192325       5          5           5         6           3    10.0          3         1        1      4\n",
      "1193091       1          2           2         1           2     1.0          2         1        1      2\n",
      "1193210       2          1           1         1           2     1.0          3         1        1      2\n",
      "1193683       1          1           2         1           3     1.0          1         1        1      2\n",
      "1196915      10          7           7         4           5    10.0          5         7        2      4\n",
      "1197080       4          1           1         1           2     1.0          3         2        1      2\n",
      "1197270       3          1           1         1           2     1.0          3         1        1      2\n",
      "1197440       1          1           1         2           1     3.0          1         1        7      2\n",
      "1197510       5          1           1         1           2     1.0          3         1        1      2\n",
      "1197979       4          1           1         1           2     2.0          3         2        1      2\n",
      "1198641       3          1           1         1           2     1.0          3         1        1      2\n",
      "1199219       1          1           1         2           1     1.0          1         1        1      2\n",
      "1199731       3          1           1         1           2     1.0          1         1        1      2\n",
      "1199983       1          1           1         1           2     1.0          3         1        1      2\n",
      "1200772       1          1           1         1           2     1.0          2         1        1      2\n",
      "1200892       8          6           5         4           3    10.0          6         1        1      4\n",
      "1201834       2          1           1         1           2     1.0          3         1        1      2\n",
      "1202125       4          1           1         1           2     1.0          3         1        1      2\n",
      "1202812       5          3           3         3           6    10.0          3         1        1      4\n",
      "1203096       1          1           1         1           1     1.0          3         1        1      2\n",
      "1204242       1          1           1         1           2     1.0          1         1        1      2\n",
      "1204898       6          1           1         1           2     1.0          3         1        1      2\n",
      "1205138       5          8           8         8           5    10.0          7         8        1      4\n",
      "1205579       8          7           6         4           4    10.0          5         1        1      4\n",
      "1206089       2          1           1         1           1     1.0          3         1        1      2\n",
      "1208301       1          2           3         1           2     1.0          3         1        1      2\n",
      "1212232       5          1           1         1           2     1.0          2         1        1      2\n",
      "1212251       1          1           1         1           2     1.0          3         1        1      2\n",
      "1212422       3          1           1         1           2     1.0          3         1        1      2\n",
      "1212422       4          1           1         1           2     1.0          3         1        1      2\n",
      "1213375       8          4           4         5           4     7.0          7         8        2      2\n",
      "1213383       5          1           1         4           2     1.0          3         1        1      2\n",
      "1214092       1          1           1         1           2     1.0          1         1        1      2\n",
      "1214556       3          1           1         1           2     1.0          2         1        1      2\n",
      "1214966       9          7           7         5           5    10.0          7         8        3      4\n",
      "1216947       1          1           1         1           2     1.0          3         1        1      2\n",
      "1217051       5          1           1         1           2     1.0          3         1        1      2\n",
      "1217264       1          1           1         1           2     1.0          3         1        1      2\n",
      "1218741      10         10           9         3           7     5.0          3         5        1      4\n",
      "1218860       1          1           1         1           1     1.0          3         1        1      2\n",
      "1219406       5          1           1         1           1     1.0          3         1        1      2\n",
      "1219859       8         10           8         8           4     8.0          7         7        1      4\n",
      "1220330       1          1           1         1           2     1.0          3         1        1      2\n",
      "1223282       1          1           1         1           2     1.0          2         1        1      2\n",
      "1223426       1          1           1         1           2     1.0          3         1        1      2\n",
      "1223967       6          1           3         1           2     1.0          3         1        1      2\n",
      "1224329       1          1           1         2           2     1.0          3         1        1      2\n",
      "1226012       4          1           1         3           1     5.0          2         1        1      4\n",
      "1226612       7          5           6         3           3     8.0          7         4        1      4\n",
      "1227244       1          1           1         1           2     1.0          2         1        1      2\n",
      "1228152       8          9           9         5           3     5.0          7         7        1      4\n",
      "1228311       1          1           1         1           1     1.0          3         1        1      2\n",
      "1230688       7          4           7         4           3     7.0          7         6        1      4\n",
      "1231706       8          4           6         3           3     1.0          4         3        1      2\n",
      "1232225      10          4           5         5           5    10.0          4         1        1      4\n",
      "1236043       3          3           2         1           3     1.0          3         6        1      2\n",
      "1241232       3          1           4         1           2     1.0          3         1        1      2\n",
      "1243256      10          4           3         2           3    10.0          5         3        2      4\n",
      "1270479       5          1           3         3           2     2.0          2         3        1      2\n",
      "1276091       3          1           1         3           1     1.0          3         1        1      2\n",
      "1277018       2          1           1         1           2     1.0          3         1        1      2\n",
      "128059        1          1           1         1           2     5.0          5         1        1      2\n",
      "1285531       1          1           1         1           2     1.0          3         1        1      2\n",
      "1287775       5          1           1         2           2     2.0          3         1        1      2\n",
      "144888        8         10          10         8           5    10.0          7         8        1      4\n",
      "145447        8          4           4         1           2     9.0          3         3        1      4\n",
      "167528        4          1           1         1           2     1.0          3         6        1      2\n",
      "169356        3          1           1         1           2     1.0          3         1        1      2\n",
      "183913        1          2           2         1           2     1.0          1         1        1      2\n",
      "1017023       6          3           3         5           3    10.0          3         5        3      2\n",
      "1182404       3          1           1         1           2     1.0          1         1        1      2\n",
      "1182404       3          1           1         1           2     1.0          2         1        1      2\n",
      "242970        5          7           7         1           5     8.0          3         4        1      2\n",
      "274137        8          8           9         4           5    10.0          7         8        1      4\n",
      "1182404       5          1           4         1           2     1.0          3         2        1      2\n",
      "1198641      10         10           6         3           3    10.0          4         3        2      4\n",
      "320675        3          3           5         2           3    10.0          7         1        1      4\n",
      "324427       10          8           8         2           3     4.0          8         7        8      4\n",
      "385103        1          1           1         1           2     1.0          3         1        1      2\n",
      "411453        5          1           1         1           2     1.0          3         1        1      2\n",
      "428903        7          2           4         1           3     4.0          3         3        1      4\n",
      "431495        3          1           1         1           2     1.0          3         2        1      2\n",
      "432809        3          1           3         1           2     1.0          2         1        1      2\n",
      "434518        3          1           1         1           2     1.0          2         1        1      2\n",
      "452264        1          1           1         1           2     1.0          2         1        1      2\n",
      "456282        1          1           1         1           2     1.0          3         1        1      2\n",
      "476903       10          5           7         3           3     7.0          3         3        8      4\n",
      "486283        3          1           1         1           2     1.0          3         1        1      2\n",
      "486662        2          1           1         2           2     1.0          3         1        1      2\n",
      "492268       10          4           6         1           2    10.0          5         3        1      4\n",
      "535331        3          1           1         1           3     1.0          2         1        1      2\n",
      "560680        1          1           1         1           2     1.0          1         1        1      2\n",
      "561477        1          1           1         1           2     1.0          3         1        1      2\n",
      "601265       10          4           4         6           2    10.0          2         3        1      4\n",
      "606140        1          1           1         1           2     1.0          2         1        1      2\n",
      "606722        5          5           7         8           6    10.0          7         4        1      4\n",
      "616240        5          3           4         3           4     5.0          4         7        1      2\n",
      "61634         5          4           3         1           2     1.0          2         3        1      2\n",
      "625201        8          2           1         1           5     1.0          1         1        1      2\n",
      "63375         9          1           2         6           4    10.0          7         7        2      4\n",
      "636130        1          1           1         1           2     1.0          3         1        1      2\n",
      "646904        1          1           1         1           2     1.0          3         1        1      2\n",
      "666090        1          1           1         1           2     1.0          3         1        1      2\n",
      "666942        1          1           1         1           2     1.0          3         1        1      2\n",
      "667204        7          8           7         6           4     3.0          8         8        4      4\n",
      "673637        3          1           1         1           2     5.0          5         1        1      2\n",
      "684955        2          1           1         1           3     1.0          2         1        1      2\n",
      "688033        1          1           1         1           2     1.0          1         1        1      2\n",
      "693702        1          1           1         1           2     1.0          1         1        1      2\n",
      "704097        1          1           1         1           1     1.0          2         1        1      2\n",
      "706426        5          5           5         2           5    10.0          4         3        1      4\n",
      "718641        1          1           1         1           5     1.0          3         1        1      2\n",
      "721482        4          4           4         4           6     5.0          7         3        1      2\n",
      "730881        7          6           3         2           5    10.0          7         4        6      4\n",
      "733639        3          1           1         1           2     1.0          3         1        1      2\n",
      "733639        3          1           1         1           2     1.0          3         1        1      2\n",
      "740492        1          1           1         1           2     1.0          3         1        1      2\n",
      "743348        3          2           2         1           2     1.0          2         3        1      2\n",
      "752904       10          1           1         1           2    10.0          5         4        1      4\n",
      "756136        1          1           1         1           2     1.0          2         1        1      2\n",
      "760239       10          4           6         4           5    10.0          7         1        1      4\n",
      "76389        10          4           7         2           2     8.0          6         1        1      4\n",
      "764974        5          1           1         1           2     1.0          3         1        2      2\n",
      "770066        5          2           2         2           2     1.0          2         2        1      2\n",
      "785208        5          4           6         6           4    10.0          4         3        1      4\n",
      "785615        8          6           7         3           3    10.0          3         4        2      4\n",
      "792744        1          1           1         1           2     1.0          1         1        1      2\n",
      "797327        6          5           5         8           4    10.0          3         4        1      4\n",
      "798429        1          1           1         1           2     1.0          3         1        1      2\n",
      "806423        8          5           5         5           2    10.0          4         3        1      4\n",
      "809912       10          3           3         1           2    10.0          7         6        1      4\n",
      "810104        1          1           1         1           2     1.0          3         1        1      2\n",
      "814265        2          1           1         1           2     1.0          1         1        1      2\n",
      "814911        1          1           1         1           2     1.0          1         1        1      2\n",
      "826923        1          1           1         1           2     1.0          1         1        1      2\n",
      "830690        5          2           2         2           3     1.0          1         3        1      2\n",
      "831268        1          1           1         1           1     1.0          1         3        1      2\n",
      "832567        4          2           3         5           3     8.0          7         6        1      4\n",
      "836433        5          1           1         3           2     1.0          1         1        1      2\n",
      "837082        2          1           1         1           2     1.0          3         1        1      2\n",
      "846832        3          4           5         3           7     3.0          4         6        1      2\n",
      "855524        1          1           1         1           2     1.0          2         1        1      2\n",
      "857774        4          1           1         1           3     1.0          2         2        1      2\n",
      "859164        5          3           3         1           3     3.0          3         3        3      4\n",
      "873549       10          3           5         4           3     7.0          3         5        3      4\n",
      "888169        3          2           2         1           4     3.0          2         1        1      2\n",
      "888523        4          4           4         2           2     3.0          2         1        1      2\n",
      "896404        2          1           1         1           2     1.0          3         1        1      2\n",
      "897172        2          1           1         1           2     1.0          2         1        1      2\n",
      "342245        1          1           3         1           2     1.0          1         1        1      2\n",
      "428598        1          1           3         1           1     1.0          2         1        1      2\n",
      "492561        4          3           2         1           3     1.0          2         1        1      2\n",
      "493452        1          1           3         1           2     1.0          1         1        1      2\n",
      "493452        4          1           2         1           2     1.0          2         1        1      2\n",
      "521441        5          1           1         2           2     1.0          2         1        1      2\n",
      "560680        3          1           2         1           2     1.0          2         1        1      2\n",
      "636437        1          1           1         1           2     1.0          1         1        1      2\n",
      "640712        1          1           1         1           2     1.0          2         1        1      2\n",
      "654244        1          1           1         1           1     1.0          2         1        1      2\n",
      "657753        3          1           1         4           3     1.0          2         2        1      2\n",
      "685977        5          3           4         1           4     1.0          3         1        1      2\n",
      "805448        1          1           1         1           2     1.0          1         1        1      2\n",
      "846423       10          6           3         6           4    10.0          7         8        4      4\n",
      "1002504       3          2           2         2           2     1.0          3         2        1      2\n",
      "1022257       2          1           1         1           2     1.0          1         1        1      2\n",
      "1026122       2          1           1         1           2     1.0          1         1        1      2\n",
      "1071084       3          3           2         2           3     1.0          1         2        3      2\n",
      "1080233       7          6           6         3           2    10.0          7         1        1      4\n",
      "1114570       5          3           3         2           3     1.0          3         1        1      2\n",
      "1114570       2          1           1         1           2     1.0          2         2        1      2\n",
      "1116715       5          1           1         1           3     2.0          2         2        1      2\n",
      "1131411       1          1           1         2           2     1.0          2         1        1      2\n",
      "1156017       3          1           1         1           2     1.0          2         1        1      2\n",
      "1158247       1          1           1         1           1     1.0          1         1        1      2\n",
      "1158405       1          2           3         1           2     1.0          2         1        1      2\n",
      "1168278       3          1           1         1           2     1.0          2         1        1      2\n",
      "1176187       3          1           1         1           2     1.0          3         1        1      2\n",
      "1196263       4          1           1         1           2     1.0          1         1        1      2\n",
      "1196475       3          2           1         1           2     1.0          2         2        1      2\n",
      "1206314       1          2           3         1           2     1.0          1         1        1      2\n",
      "1211265       3         10           8         7           6     9.0          9         3        8      4\n",
      "1213784       3          1           1         1           2     1.0          1         1        1      2\n",
      "1223003       5          3           3         1           2     1.0          2         1        1      2\n",
      "1223306       3          1           1         1           2     4.0          1         1        1      2\n",
      "1223543       1          2           1         3           2     1.0          1         2        1      2\n",
      "1229929       1          1           1         1           2     1.0          2         1        1      2\n",
      "1231853       4          2           2         1           2     1.0          2         1        1      2\n",
      "1234554       1          1           1         1           2     1.0          2         1        1      2\n",
      "1236837       2          3           2         2           2     2.0          3         1        1      2\n",
      "1237674       3          1           2         1           2     1.0          2         1        1      2\n",
      "1238021       1          1           1         1           2     1.0          2         1        1      2\n",
      "1238464       1          1           1         1           1     1.0          2         1        1      2\n",
      "1238915       5          1           2         1           2     1.0          3         1        1      2\n",
      "1238948       8          5           6         2           3    10.0          6         6        1      4\n",
      "1239232       3          3           2         6           3     3.0          3         5        1      2\n",
      "1239967       1          1           1         1           2     1.0          2         1        1      2\n",
      "1240337       5          2           2         2           2     2.0          3         2        2      2\n",
      "1253505       2          3           1         1           5     1.0          1         1        1      2\n",
      "1255384       3          2           2         3           2     3.0          3         1        1      2\n",
      "1257648       4          3           3         1           2     1.0          3         3        1      2\n",
      "1257815       5          1           3         1           2     1.0          2         1        1      2\n",
      "1257938       3          1           1         1           2     1.0          1         1        1      2\n",
      "1258556       5          3           6         1           2     1.0          1         1        1      2\n",
      "1272039       1          1           1         1           2     1.0          2         1        1      2\n",
      "1276091       2          1           1         1           2     1.0          2         1        1      2\n",
      "1276091       1          3           1         1           2     1.0          2         2        1      2\n",
      "1276091       5          1           1         3           4     1.0          3         2        1      2\n",
      "1277629       5          1           1         1           2     1.0          2         2        1      2\n",
      "1293439       3          2           2         3           2     1.0          1         1        1      2\n",
      "1293439       6          9           7         5           5     8.0          4         2        1      2\n",
      "1294562      10          8          10         1           3    10.0          5         1        1      4\n",
      "1295186      10         10          10         1           6     1.0          2         8        1      4\n",
      "527337        4          1           1         1           2     1.0          1         1        1      2\n",
      "558538        4          1           3         3           2     1.0          1         1        1      2\n",
      "566509        5          1           1         1           2     1.0          1         1        1      2\n",
      "677910        5          2           2         4           2     4.0          1         1        1      2\n",
      "734111        1          1           1         3           2     3.0          1         1        1      2\n",
      "734111        1          1           1         1           2     2.0          1         1        1      2\n",
      "780555        5          1           1         6           3     1.0          2         1        1      2\n",
      "827627        2          1           1         1           2     1.0          1         1        1      2\n",
      "1049837       1          1           1         1           2     1.0          1         1        1      2\n",
      "1058849       5          1           1         1           2     1.0          1         1        1      2\n",
      "1182404       1          1           1         1           1     1.0          1         1        1      2\n",
      "1201870       4          1           1         3           1     1.0          2         1        1      2\n",
      "1202253       5          1           1         1           2     1.0          1         1        1      2\n",
      "1227081       3          1           1         3           2     1.0          1         1        1      2\n",
      "1238410       2          3           1         1           3     1.0          1         1        1      2\n",
      "1246562      10          2           2         1           2     6.0          1         1        2      4\n",
      "1257470      10          6           5         8           5    10.0          8         6        1      4\n",
      "1266124       5          1           2         1           2     1.0          1         1        1      2\n",
      "1267898       5          1           3         1           2     1.0          1         1        1      2\n",
      "1268313       5          1           1         3           2     1.0          1         1        1      2\n",
      "1268804       3          1           1         1           2     5.0          1         1        1      2\n",
      "1276091       6          1           1         3           2     1.0          1         1        1      2\n",
      "1280258       4          1           1         1           2     1.0          1         2        1      2\n",
      "1293966       4          1           1         1           2     1.0          1         1        1      2\n",
      "1298416      10          6           6         2           4    10.0          9         7        1      4\n",
      "1299596       6          6           6         5           4    10.0          7         6        2      4\n",
      "1105524       4          1           1         1           2     1.0          1         1        1      2\n",
      "1181685       1          1           2         1           2     1.0          2         1        1      2\n",
      "1211594       3          1           1         1           1     1.0          2         1        1      2\n",
      "1238777       6          1           1         3           2     1.0          1         1        1      2\n",
      "1257608       6          1           1         1           1     1.0          1         1        1      2\n",
      "1269574       4          1           1         1           2     1.0          1         1        1      2\n",
      "1277145       5          1           1         1           2     1.0          1         1        1      2\n",
      "1287282       3          1           1         1           2     1.0          1         1        1      2\n",
      "1296025       4          1           2         1           2     1.0          1         1        1      2\n",
      "1296263       4          1           1         1           2     1.0          1         1        1      2\n",
      "1296593       5          2           1         1           2     1.0          1         1        1      2\n",
      "1301945       5          1           1         1           1     1.0          1         1        1      2\n",
      "1302428       5          3           2         4           2     1.0          1         1        1      2\n",
      "787451        5          1           2         1           2     1.0          1         1        1      2\n",
      "1002025       1          1           1         3           1     3.0          1         1        1      2\n",
      "1070522       3          1           1         1           1     1.0          2         1        1      2\n",
      "1084139       6          3           2         1           3     4.0          4         1        1      4\n",
      "1115293       1          1           1         1           2     1.0          1         1        1      2\n",
      "1119189       5          8           9         4           3    10.0          7         1        1      4\n",
      "1133991       4          1           1         1           1     1.0          2         1        1      2\n",
      "1170945       3          1           1         1           1     1.0          2         1        1      2\n",
      "1181567       1          1           1         1           1     1.0          1         1        1      2\n",
      "1182404       4          2           1         1           2     1.0          1         1        1      2\n",
      "1204558       4          1           1         1           2     1.0          2         1        1      2\n",
      "1217952       4          1           1         1           2     1.0          2         1        1      2\n",
      "1224565       6          1           1         1           2     1.0          3         1        1      2\n",
      "1238186       4          1           1         1           2     1.0          2         1        1      2\n",
      "1253917       4          1           1         2           2     1.0          2         1        1      2\n",
      "1265899       4          1           1         1           2     1.0          3         1        1      2\n",
      "1268766       1          1           1         1           2     1.0          1         1        1      2\n",
      "1277268       3          3           1         1           2     1.0          1         1        1      2\n",
      "1295508       1          1           1         1           2     4.0          1         1        1      2\n",
      "1297327       5          1           1         1           2     1.0          1         1        1      2\n",
      "1297522       2          1           1         1           2     1.0          1         1        1      2\n",
      "1298360       1          1           1         1           2     1.0          1         1        1      2\n",
      "1299924       5          1           1         1           2     1.0          2         1        1      2\n",
      "1299994       5          1           1         1           2     1.0          1         1        1      2\n",
      "1304595       3          1           1         1           1     1.0          2         1        1      2\n",
      "1320077       1          1           1         1           1     1.0          1         1        1      2\n",
      "1320077       1          1           1         1           1     1.0          2         1        1      2\n",
      "1320304       3          1           2         2           2     1.0          1         1        1      2\n",
      "1330439       4          7           8         3           4    10.0          9         1        1      4\n",
      "333093        1          1           1         1           3     1.0          1         1        1      2\n",
      "369565        4          1           1         1           3     1.0          1         1        1      2\n",
      "412300       10          4           5         4           3     5.0          7         3        1      4\n",
      "749653        3          1           1         1           2     1.0          2         1        1      2\n",
      "769612        3          1           1         2           2     1.0          1         1        1      2\n",
      "769612        4          1           1         1           2     1.0          1         1        1      2\n",
      "798429        4          1           1         1           2     1.0          3         1        1      2\n",
      "807657        6          1           3         2           2     1.0          1         1        1      2\n",
      "8233704       4          1           1         1           1     1.0          2         1        1      2\n",
      "867392        4          2           2         1           2     1.0          2         1        1      2\n",
      "869828        1          1           1         1           1     1.0          3         1        1      2\n",
      "1043068       3          1           1         1           2     1.0          2         1        1      2\n",
      "1056171       2          1           1         1           2     1.0          2         1        1      2\n",
      "1061990       1          1           3         2           2     1.0          3         1        1      2\n",
      "1113061       5          1           1         1           2     1.0          3         1        1      2\n",
      "1116192       5          1           2         1           2     1.0          3         1        1      2\n",
      "1135090       4          1           1         1           2     1.0          2         1        1      2\n",
      "1145420       6          1           1         1           2     1.0          2         1        1      2\n",
      "1158157       5          1           1         1           2     2.0          2         1        1      2\n",
      "1171578       3          1           1         1           2     1.0          1         1        1      2\n",
      "1174841       5          3           1         1           2     1.0          1         1        1      2\n",
      "1184586       4          1           1         1           2     1.0          2         1        1      2\n",
      "1186936       2          1           3         2           2     1.0          2         1        1      2\n",
      "1197527       5          1           1         1           2     1.0          2         1        1      2\n",
      "1240603       2          1           1         1           1     1.0          1         1        1      2\n",
      "1240603       3          1           1         1           1     1.0          1         1        1      2\n",
      "1241035       7          8           3         7           4     5.0          7         8        2      4\n",
      "1287971       3          1           1         1           2     1.0          2         1        1      2\n",
      "1289391       1          1           1         1           2     1.0          3         1        1      2\n",
      "1299924       3          2           2         2           2     1.0          4         2        1      2\n",
      "1306339       4          4           2         1           2     5.0          2         1        2      2\n",
      "1313658       3          1           1         1           2     1.0          1         1        1      2\n",
      "1313982       4          3           1         1           2     1.0          4         8        1      2\n",
      "1321264       5          2           2         2           1     1.0          2         1        1      2\n",
      "1321321       5          1           1         3           2     1.0          1         1        1      2\n",
      "1321348       2          1           1         1           2     1.0          2         1        1      2\n",
      "1321931       5          1           1         1           2     1.0          2         1        1      2\n",
      "1321942       5          1           1         1           2     1.0          3         1        1      2\n",
      "1328331       1          1           1         1           2     1.0          3         1        1      2\n",
      "1328755       3          1           1         1           2     1.0          2         1        1      2\n",
      "1331405       4          1           1         1           2     1.0          3         2        1      2\n",
      "1333104       3          1           2         1           2     1.0          3         1        1      2\n",
      "1334071       4          1           1         1           2     3.0          2         1        1      2\n",
      "1343068       8          4           4         1           6    10.0          2         5        2      4\n",
      "183936        3          1           1         1           2     1.0          2         1        1      2\n",
      "324382        1          1           1         1           2     1.0          2         1        1      2\n",
      "378275       10          9           7         3           4     2.0          7         7        1      4\n",
      "385103        5          1           2         1           2     1.0          3         1        1      2\n",
      "690557        5          1           1         1           2     1.0          2         1        1      2\n",
      "695091        1          1           1         1           2     1.0          2         1        1      2\n",
      "695219        1          1           1         1           2     1.0          2         1        1      2\n",
      "824249        1          1           1         1           2     1.0          3         1        1      2\n",
      "871549        5          1           2         1           2     1.0          2         1        1      2\n",
      "878358        5          7          10         6           5    10.0          7         5        1      4\n",
      "1115762       3          1           1         1           2     1.0          1         1        1      2\n",
      "1217717       5          1           1         6           3     1.0          1         1        1      2\n",
      "1239420       1          1           1         1           2     1.0          1         1        1      2\n",
      "1261751       5          1           1         1           2     1.0          2         2        1      2\n",
      "1272166       5          1           1         1           2     1.0          1         1        1      2\n",
      "1295529       2          5           7         6           4    10.0          7         6        1      4\n",
      "1298484      10          3           4         5           3    10.0          4         1        1      4\n",
      "1311875       5          1           2         1           2     1.0          1         1        1      2\n",
      "1315506       4          8           6         3           4    10.0          7         1        1      4\n",
      "1320141       5          1           1         1           2     1.0          2         1        1      2\n",
      "1325309       4          1           2         1           2     1.0          2         1        1      2\n",
      "1333063       5          1           3         1           2     1.0          3         1        1      2\n",
      "1333495       3          1           1         1           2     1.0          2         1        1      2\n",
      "1334659       5          2           4         1           1     1.0          1         1        1      2\n",
      "1336798       3          1           1         1           2     1.0          2         1        1      2\n",
      "1344449       1          1           1         1           1     1.0          2         1        1      2\n",
      "1350568       4          1           1         1           2     1.0          2         1        1      2\n",
      "188336        5          3           2         8           5    10.0          8         1        2      4\n",
      "352431       10          5          10         3           5     8.0          7         8        3      4\n",
      "353098        4          1           1         2           2     1.0          1         1        1      2\n",
      "411453        1          1           1         1           2     1.0          1         1        1      2\n",
      "636375        5          1           1         1           2     1.0          1         1        1      2\n",
      "1016634       2          3           1         1           2     1.0          2         1        1      2\n",
      "1031608       2          1           1         1           1     1.0          2         1        1      2\n",
      "1041043       4          1           3         1           2     1.0          2         1        1      2\n",
      "1042252       3          1           1         1           2     1.0          2         1        1      2\n",
      "1057067       1          1           1         1           1     1.0          1         1        1      2\n",
      "1061990       4          1           1         1           2     1.0          2         1        1      2\n",
      "1073836       5          1           1         1           2     1.0          2         1        1      2\n",
      "1083817       3          1           1         1           2     1.0          2         1        1      2\n",
      "1096352       6          3           3         3           3     2.0          6         1        1      2\n",
      "1140597       7          1           2         3           2     1.0          2         1        1      2\n",
      "1149548       1          1           1         1           2     1.0          1         1        1      2\n",
      "1174009       5          1           1         2           1     1.0          2         1        1      2\n",
      "1183596       3          1           3         1           3     4.0          1         1        1      2\n",
      "1190386       4          6           6         5           7     6.0          7         7        3      4\n",
      "1190546       2          1           1         1           2     5.0          1         1        1      2\n",
      "1213273       2          1           1         1           2     1.0          1         1        1      2\n",
      "1218982       4          1           1         1           2     1.0          1         1        1      2\n",
      "1225382       6          2           3         1           2     1.0          1         1        1      2\n",
      "1235807       5          1           1         1           2     1.0          2         1        1      2\n",
      "1238777       1          1           1         1           2     1.0          1         1        1      2\n",
      "1257366       3          1           1         1           2     1.0          1         1        1      2\n",
      "1260659       3          1           4         1           2     1.0          1         1        1      2\n",
      "1275807       4          2           4         3           2     2.0          2         1        1      2\n",
      "1277792       4          1           1         1           2     1.0          1         1        1      2\n",
      "1277792       5          1           1         3           2     1.0          1         1        1      2\n",
      "1285722       4          1           1         3           2     1.0          1         1        1      2\n",
      "1288608       3          1           1         1           2     1.0          2         1        1      2\n",
      "1290203       3          1           1         1           2     1.0          2         1        1      2\n",
      "1294413       1          1           1         1           2     1.0          1         1        1      2\n",
      "1299596       2          1           1         1           2     1.0          1         1        1      2\n",
      "1303489       3          1           1         1           2     1.0          2         1        1      2\n",
      "1311033       1          2           2         1           2     1.0          1         1        1      2\n",
      "1311108       1          1           1         3           2     1.0          1         1        1      2\n",
      "1318671       3          1           1         1           2     1.0          2         1        1      2\n",
      "1319609       3          1           1         2           3     4.0          1         1        1      2\n",
      "1323477       1          2           1         3           2     1.0          2         1        1      2\n",
      "1324572       5          1           1         1           2     1.0          2         2        1      2\n",
      "1324681       4          1           1         1           2     1.0          2         1        1      2\n",
      "1325159       3          1           1         1           2     1.0          3         1        1      2\n",
      "1326892       3          1           1         1           2     1.0          2         1        1      2\n",
      "1330361       5          1           1         1           2     1.0          2         1        1      2\n",
      "1334015       7          8           8         7           3    10.0          7         2        3      4\n",
      "1334667       1          1           1         1           2     1.0          1         1        1      2\n",
      "1339781       1          1           1         1           2     1.0          2         1        1      2\n",
      "1339781       4          1           1         1           2     1.0          3         1        1      2\n",
      "13454352      1          1           3         1           2     1.0          2         1        1      2\n",
      "1345452       1          1           3         1           2     1.0          2         1        1      2\n",
      "1345593       3          1           1         3           2     1.0          2         1        1      2\n",
      "1347749       1          1           1         1           2     1.0          1         1        1      2\n",
      "1347943       5          2           2         2           2     1.0          1         1        2      2\n",
      "1348851       3          1           1         1           2     1.0          3         1        1      2\n",
      "1352848       3         10           7         8           5     8.0          7         4        1      4\n",
      "1353092       3          2           1         2           2     1.0          3         1        1      2\n",
      "1354840       2          1           1         1           2     1.0          3         1        1      2\n",
      "1354840       5          3           2         1           3     1.0          1         1        1      2\n",
      "1355260       1          1           1         1           2     1.0          2         1        1      2\n",
      "1365075       4          1           4         1           2     1.0          1         1        1      2\n",
      "1365328       1          1           2         1           2     1.0          2         1        1      2\n",
      "1368267       5          1           1         1           2     1.0          1         1        1      2\n",
      "1368273       1          1           1         1           2     1.0          1         1        1      2\n",
      "1368882       2          1           1         1           2     1.0          1         1        1      2\n",
      "1371920       5          1           1         1           2     1.0          3         2        1      2\n",
      "466906        1          1           1         1           2     1.0          1         1        1      2\n",
      "534555        1          1           1         1           2     1.0          1         1        1      2\n",
      "536708        1          1           1         1           2     1.0          1         1        1      2\n",
      "566346        3          1           1         1           2     1.0          2         3        1      2\n",
      "603148        4          1           1         1           2     1.0          1         1        1      2\n",
      "654546        1          1           1         1           2     1.0          1         1        8      2\n",
      "654546        1          1           1         3           2     1.0          1         1        1      2\n",
      "695091        5         10          10         5           4     5.0          4         4        1      4\n",
      "714039        3          1           1         1           2     1.0          1         1        1      2\n",
      "763235        3          1           1         1           2     1.0          2         1        2      2\n",
      "776715        3          1           1         1           3     2.0          1         1        1      2\n",
      "841769        2          1           1         1           2     1.0          1         1        1      2\n"
     ]
    }
   ],
   "source": [
    "# Print cleaned data and save it to csv\n",
    "\n",
    "print(cleaned_data.to_string())\n",
    "cleaned_data.to_csv(\"Preprocessed.csv\",index=False)"
   ]
  },
  {
   "cell_type": "markdown",
   "metadata": {},
   "source": [
    "# Applying Techniques"
   ]
  },
  {
   "cell_type": "code",
   "execution_count": 114,
   "metadata": {},
   "outputs": [],
   "source": [
    "from sklearn.model_selection import train_test_split\n",
    "from sklearn import tree\n",
    "from sklearn import metrics\n",
    "from sklearn.model_selection import KFold \n",
    "from sklearn import svm\n",
    "from sklearn.model_selection import cross_val_score\n",
    "from sklearn.metrics import classification_report, confusion_matrix"
   ]
  },
  {
   "cell_type": "code",
   "execution_count": 115,
   "metadata": {},
   "outputs": [
    {
     "data": {
      "text/plain": [
       "['clump',\n",
       " 'cell_size',\n",
       " 'cell_shape',\n",
       " 'adhesion',\n",
       " 'epithelial',\n",
       " 'nuclei',\n",
       " 'chromatin',\n",
       " 'nucleoli',\n",
       " 'mitoses']"
      ]
     },
     "execution_count": 115,
     "metadata": {},
     "output_type": "execute_result"
    }
   ],
   "source": [
    "# Separate feature from target column\n",
    "\n",
    "features = list(cleaned_data.columns[:9])\n",
    "features"
   ]
  },
  {
   "cell_type": "code",
   "execution_count": 116,
   "metadata": {},
   "outputs": [],
   "source": [
    "y = cleaned_data[\"class\"]\n",
    "x = cleaned_data[features]"
   ]
  },
  {
   "cell_type": "markdown",
   "metadata": {},
   "source": [
    "Decision Tree"
   ]
  },
  {
   "cell_type": "code",
   "execution_count": 117,
   "metadata": {},
   "outputs": [],
   "source": [
    "x_train, x_test, y_train, y_test = train_test_split(x, y, test_size=0.25)"
   ]
  },
  {
   "cell_type": "code",
   "execution_count": 118,
   "metadata": {},
   "outputs": [],
   "source": [
    "# Model created ad trained\n",
    "\n",
    "clf = tree.DecisionTreeClassifier()\n",
    "clf = clf.fit(x_train,y_train)"
   ]
  },
  {
   "cell_type": "code",
   "execution_count": 119,
   "metadata": {},
   "outputs": [],
   "source": [
    "#predict the response\n",
    "\n",
    "y_pred = clf.predict(x_test)"
   ]
  },
  {
   "cell_type": "code",
   "execution_count": 120,
   "metadata": {},
   "outputs": [
    {
     "name": "stdout",
     "output_type": "stream",
     "text": [
      "Accuracy: 0.9343065693430657\n"
     ]
    }
   ],
   "source": [
    "# Print accuracy\n",
    "\n",
    "print(\"Accuracy:\",metrics.accuracy_score(y_test, y_pred))"
   ]
  },
  {
   "cell_type": "markdown",
   "metadata": {},
   "source": [
    "10 Fold cross validation"
   ]
  },
  {
   "cell_type": "code",
   "execution_count": 122,
   "metadata": {},
   "outputs": [],
   "source": [
    "model = svm.SVC()"
   ]
  },
  {
   "cell_type": "code",
   "execution_count": 123,
   "metadata": {},
   "outputs": [],
   "source": [
    "accuracy = cross_val_score(model,x,y,scoring='accuracy', cv=10)"
   ]
  },
  {
   "cell_type": "code",
   "execution_count": 124,
   "metadata": {},
   "outputs": [
    {
     "name": "stdout",
     "output_type": "stream",
     "text": [
      "[0.90909091 0.98181818 0.94545455 0.92727273 0.96363636 0.96363636\n",
      " 1.         0.98148148 0.98148148 1.        ]\n"
     ]
    }
   ],
   "source": [
    "print(accuracy)"
   ]
  },
  {
   "cell_type": "code",
   "execution_count": 125,
   "metadata": {},
   "outputs": [
    {
     "name": "stdout",
     "output_type": "stream",
     "text": [
      "Accuracy of Model with Cross Validation is: 0.9653872053872053\n"
     ]
    }
   ],
   "source": [
    "print(\"Accuracy of Model with Cross Validation is:\",accuracy.mean())"
   ]
  },
  {
   "cell_type": "markdown",
   "metadata": {},
   "source": [
    "Random Forest"
   ]
  },
  {
   "cell_type": "code",
   "execution_count": 126,
   "metadata": {},
   "outputs": [],
   "source": [
    "from sklearn.ensemble import RandomForestClassifier\n",
    "\n",
    "clf_forest = RandomForestClassifier(n_estimators=10)\n",
    "clf_forest = clf_forest.fit(x_train, y_train)\n",
    "\n",
    "#Predict \n",
    "y_pred = clf_forest.predict(x_test)"
   ]
  },
  {
   "cell_type": "code",
   "execution_count": 127,
   "metadata": {},
   "outputs": [],
   "source": [
    "rfc_accuracy = cross_val_score(clf_forest,x,y,scoring='accuracy', cv=10)"
   ]
  },
  {
   "cell_type": "code",
   "execution_count": 128,
   "metadata": {},
   "outputs": [
    {
     "name": "stdout",
     "output_type": "stream",
     "text": [
      "[0.94545455 0.96363636 0.90909091 0.92727273 0.96363636 0.98181818\n",
      " 0.98148148 0.98148148 0.96296296 0.98148148]\n"
     ]
    }
   ],
   "source": [
    "print(rfc_accuracy)"
   ]
  },
  {
   "cell_type": "code",
   "execution_count": 129,
   "metadata": {},
   "outputs": [
    {
     "name": "stdout",
     "output_type": "stream",
     "text": [
      "Accuracy of Model with Cross Validation is: 0.9598316498316498\n"
     ]
    }
   ],
   "source": [
    "print(\"Accuracy of Model with Cross Validation is:\",rfc_accuracy.mean())"
   ]
  },
  {
   "cell_type": "markdown",
   "metadata": {},
   "source": [
    "Does it perform better than decision tree?\n",
    "\n",
    "For current set of values, the decision tree has better performance than the random forest tree, both with K=10 folds.\n",
    "\n",
    "The decision tree, with K-fold cross validation has an accuracy of 0.9653872053872053, whereas the same of random forst is 0.9544107744107743."
   ]
  },
  {
   "cell_type": "markdown",
   "metadata": {},
   "source": [
    "KNN"
   ]
  },
  {
   "cell_type": "code",
   "execution_count": 131,
   "metadata": {},
   "outputs": [],
   "source": [
    "#KNeighbors\n",
    "\n",
    "from sklearn.neighbors import KNeighborsClassifier\n",
    "\n",
    "\n",
    "kneigh = KNeighborsClassifier(n_neighbors=10)\n",
    "kneigh = kneigh.fit(x_train, y_train)\n",
    "\n",
    "#predict\n",
    "y_pred = kneigh.predict(x_test)"
   ]
  },
  {
   "cell_type": "code",
   "execution_count": 132,
   "metadata": {},
   "outputs": [],
   "source": [
    "kneigh_accuracy = cross_val_score(kneigh,x,y,scoring='accuracy', cv=10)"
   ]
  },
  {
   "cell_type": "code",
   "execution_count": 133,
   "metadata": {},
   "outputs": [
    {
     "name": "stdout",
     "output_type": "stream",
     "text": [
      "[0.90909091 0.98181818 0.94545455 0.92727273 0.96363636 0.96363636\n",
      " 1.         0.96296296 0.98148148 1.        ]\n"
     ]
    }
   ],
   "source": [
    "print(kneigh_accuracy)"
   ]
  },
  {
   "cell_type": "code",
   "execution_count": 134,
   "metadata": {},
   "outputs": [
    {
     "name": "stdout",
     "output_type": "stream",
     "text": [
      "Accuracy of KNN Model with Cross Validation is: 0.9635353535353535\n"
     ]
    }
   ],
   "source": [
    "print(\"Accuracy of KNN Model with Cross Validation is:\",kneigh_accuracy.mean())"
   ]
  },
  {
   "cell_type": "markdown",
   "metadata": {},
   "source": [
    "Checking accuracy with different numbers of K"
   ]
  },
  {
   "cell_type": "code",
   "execution_count": 136,
   "metadata": {},
   "outputs": [
    {
     "name": "stdout",
     "output_type": "stream",
     "text": [
      "Accuracies of kNN Model with different Cross Validation are:\n",
      "K =  1  Accurcay: 0.9507744107744107\n",
      "K =  2  Accurcay: 0.937912457912458\n",
      "K =  3  Accurcay: 0.9653535353535352\n",
      "K =  4  Accurcay: 0.9580134680134679\n",
      "K =  5  Accurcay: 0.9671717171717171\n",
      "K =  6  Accurcay: 0.9635353535353535\n",
      "K =  7  Accurcay: 0.9672053872053871\n",
      "K =  8  Accurcay: 0.9689898989898988\n",
      "K =  9  Accurcay: 0.9671717171717171\n",
      "K =  10  Accurcay: 0.9635353535353535\n",
      "K =  11  Accurcay: 0.9653872053872053\n",
      "K =  12  Accurcay: 0.9653535353535354\n",
      "K =  13  Accurcay: 0.9672053872053871\n",
      "K =  14  Accurcay: 0.9672053872053871\n",
      "K =  15  Accurcay: 0.9653872053872053\n",
      "K =  16  Accurcay: 0.9635353535353535\n",
      "K =  17  Accurcay: 0.9653872053872053\n",
      "K =  18  Accurcay: 0.9635353535353535\n",
      "K =  19  Accurcay: 0.9617171717171716\n",
      "K =  20  Accurcay: 0.9562626262626261\n",
      "K =  21  Accurcay: 0.958080808080808\n",
      "K =  22  Accurcay: 0.958080808080808\n",
      "K =  23  Accurcay: 0.958080808080808\n",
      "K =  24  Accurcay: 0.9598989898989899\n",
      "K =  25  Accurcay: 0.9598989898989899\n",
      "K =  26  Accurcay: 0.9562626262626261\n",
      "K =  27  Accurcay: 0.9562626262626261\n",
      "K =  28  Accurcay: 0.9562626262626261\n",
      "K =  29  Accurcay: 0.9562626262626261\n",
      "K =  30  Accurcay: 0.9562626262626261\n",
      "K =  31  Accurcay: 0.9562626262626261\n",
      "K =  32  Accurcay: 0.9562626262626261\n",
      "K =  33  Accurcay: 0.9562626262626261\n",
      "K =  34  Accurcay: 0.9562626262626261\n",
      "K =  35  Accurcay: 0.9562626262626261\n",
      "K =  36  Accurcay: 0.9562626262626261\n",
      "K =  37  Accurcay: 0.9562626262626261\n",
      "K =  38  Accurcay: 0.9562626262626261\n",
      "K =  39  Accurcay: 0.9562626262626261\n",
      "K =  40  Accurcay: 0.9544444444444444\n",
      "K =  41  Accurcay: 0.9544444444444444\n",
      "K =  42  Accurcay: 0.9526262626262625\n",
      "K =  43  Accurcay: 0.9526262626262625\n",
      "K =  44  Accurcay: 0.9526262626262625\n",
      "K =  45  Accurcay: 0.9526262626262625\n",
      "K =  46  Accurcay: 0.9526262626262625\n",
      "K =  47  Accurcay: 0.9526262626262625\n",
      "K =  48  Accurcay: 0.9526262626262625\n",
      "K =  49  Accurcay: 0.9526262626262625\n",
      "K =  50  Accurcay: 0.9526262626262625\n"
     ]
    }
   ],
   "source": [
    "# different values for neighbors\n",
    "neighbors = list(range(1, 51, 1))\n",
    "\n",
    "# empty list that will hold cv scores\n",
    "cv_scores = []\n",
    "\n",
    "# perform 10-fold cross validation\n",
    "for each_k in neighbors:\n",
    "    knn = KNeighborsClassifier(n_neighbors=each_k)\n",
    "    scores = cross_val_score(knn, x, y, cv=10, scoring='accuracy')\n",
    "    cv_scores.append(scores.mean())\n",
    "    \n",
    "print(\"Accuracies of kNN Model with different Cross Validation are:\")\n",
    "i = 0\n",
    "while(i<len(cv_scores)):\n",
    "    print(\"K = \",i+1 , \" Accurcay:\", cv_scores[i])\n",
    "    i = i+1"
   ]
  },
  {
   "cell_type": "code",
   "execution_count": 137,
   "metadata": {},
   "outputs": [
    {
     "name": "stdout",
     "output_type": "stream",
     "text": [
      "The optimal number of neighbors is 8\n"
     ]
    },
    {
     "data": {
      "image/png": "[encoded data removed]",
      "text/plain": [
       "<Figure size 432x288 with 1 Axes>"
      ]
     },
     "metadata": {
      "needs_background": "light"
     },
     "output_type": "display_data"
    }
   ],
   "source": [
    "# changing to misclassification error\n",
    "mse = [1 - x for x in cv_scores]\n",
    "\n",
    "# determining best k\n",
    "optimal_k = neighbors[mse.index(min(mse))]\n",
    "print(\"The optimal number of neighbors is {}\".format(optimal_k))\n",
    "\n",
    "# plot misclassification error vs k\n",
    "plt.plot(neighbors, mse)\n",
    "plt.xlabel(\"Number of Neighbors K\")\n",
    "plt.ylabel(\"Misclassification Error\")\n",
    "plt.show()"
   ]
  },
  {
   "cell_type": "markdown",
   "metadata": {},
   "source": [
    "Behaviour of K:\n",
    "\n",
    "The value of K play a substancial role in the KNN. To determine the role of K, we calculate the different cross-validation with varying neighbors. \n",
    "\n",
    "I have caluculated misclassification error for each  value of K. Lower the misclassification error better is the result. I have plotted the misclassification error against the number of neighbors k. \n",
    "\n",
    "By looking at the graph, we can conclude that at the start of the graph, the plot increases to its maximum value. After which it sharpely reduces. It shows a patter of increasing and decreasing till the time it reaches the minimal value. After reaching the minimum value it reaches it starts to increase with minor decrease in the graph.\n",
    "\n",
    "For our graph, as graph reaches the value around 25 then graph becomes a plateanu with minor increase in it."
   ]
  },
  {
   "cell_type": "markdown",
   "metadata": {},
   "source": [
    "Best value of K:\n",
    "\n",
    "For our dataset, 8 is the best value for K, with the accuracy of 0.9689898989898988."
   ]
  },
  {
   "cell_type": "markdown",
   "metadata": {},
   "source": [
    "Naive Bayes"
   ]
  },
  {
   "cell_type": "code",
   "execution_count": 138,
   "metadata": {},
   "outputs": [],
   "source": [
    "from sklearn.naive_bayes import MultinomialNB"
   ]
  },
  {
   "cell_type": "code",
   "execution_count": 139,
   "metadata": {},
   "outputs": [],
   "source": [
    "nb_clf = MultinomialNB()\n",
    "nb_clf = nb_clf.fit(x_train, y_train)\n",
    "\n",
    "#Predict \n",
    "y_pred = nb_clf.predict(x_test)"
   ]
  },
  {
   "cell_type": "code",
   "execution_count": 140,
   "metadata": {},
   "outputs": [
    {
     "name": "stdout",
     "output_type": "stream",
     "text": [
      "[0.87272727 0.85454545 0.92727273 0.96363636 0.96363636 0.87272727\n",
      " 0.98148148 0.88888889 0.90740741 0.96296296]\n",
      "Accuracy of NB Model with Cross Validation is: 0.9195286195286195\n"
     ]
    }
   ],
   "source": [
    "nb_clf_accuracy = cross_val_score(nb_clf,x,y,scoring='accuracy', cv=10)\n",
    "print(nb_clf_accuracy)\n",
    "print(\"Accuracy of NB Model with Cross Validation is:\",nb_clf_accuracy.mean())"
   ]
  },
  {
   "cell_type": "markdown",
   "metadata": {},
   "source": [
    "Gaussian Naive Bayes"
   ]
  },
  {
   "cell_type": "code",
   "execution_count": 141,
   "metadata": {},
   "outputs": [],
   "source": [
    "from sklearn.naive_bayes import GaussianNB"
   ]
  },
  {
   "cell_type": "code",
   "execution_count": 142,
   "metadata": {},
   "outputs": [],
   "source": [
    "nbg_clf = GaussianNB()"
   ]
  },
  {
   "cell_type": "code",
   "execution_count": 143,
   "metadata": {},
   "outputs": [],
   "source": [
    "nbg_clf = nbg_clf.fit(x_train, y_train)\n",
    "\n",
    "#Predict \n",
    "y_pred = nbg_clf.predict(x_test)"
   ]
  },
  {
   "cell_type": "code",
   "execution_count": 144,
   "metadata": {},
   "outputs": [
    {
     "name": "stdout",
     "output_type": "stream",
     "text": [
      "[0.92727273 1.         0.90909091 0.92727273 0.96363636 0.94545455\n",
      " 1.         0.98148148 0.94444444 0.98148148]\n",
      "Accuracy of NBG Model with Cross Validation is: 0.958013468013468\n"
     ]
    }
   ],
   "source": [
    "nbg_clf_accuracy = cross_val_score(nbg_clf,x,y,scoring='accuracy', cv=10)\n",
    "print(nbg_clf_accuracy)\n",
    "print(\"Accuracy of NBG Model with Cross Validation is:\",nbg_clf_accuracy.mean())"
   ]
  },
  {
   "cell_type": "markdown",
   "metadata": {},
   "source": [
    "Performance comparison between two Naive Bayes Classifiers:\n",
    "\n",
    "Yes, the accuracy of Gaussian Naive Bayes is better than that of Naive Bayes. The accuracy, which I got with plain Naive Bayes is 0.9195286195286195 and the accuracy with Naive Bayes Gausian is 0.958013468013468. This is significantly beeter than the plain Naive Bayes Classifier. "
   ]
  },
  {
   "cell_type": "markdown",
   "metadata": {},
   "source": [
    "# Conclusion:\n",
    "\n",
    "For the current data, different methods have given the different accuracy level. All the methods, have accuracies more than 90%, when used with 10-fold cross validation.\n",
    "\n",
    "Following is the order of cross validation accuracies, from highest to lowest:\n",
    "1. KNN with (K = 8) - 0.9689898989898988\n",
    "2. Decision Tree - 0.9653872053872053\n",
    "3. KNN with (K = 10) - 0.9635353535353535\n",
    "4. Naive Bayes Gausian - 0.958013468013468\n",
    "5. Random forest - 0.9507407407407407\n",
    "6. Naive Bayes - 0.9195286195286195"
   ]
  },
  {
   "cell_type": "code",
   "execution_count": null,
   "metadata": {},
   "outputs": [],
   "source": []
  }
 ],
 "metadata": {
  "kernelspec": {
   "display_name": "Python 3",
   "language": "python",
   "name": "python3"
  },
  "language_info": {
   "codemirror_mode": {
    "name": "ipython",
    "version": 3
   },
   "file_extension": ".py",
   "mimetype": "text/x-python",
   "name": "python",
   "nbconvert_exporter": "python",
   "pygments_lexer": "ipython3",
   "version": "3.8.5"
  }
 },
 "nbformat": 4,
 "nbformat_minor": 4
}
